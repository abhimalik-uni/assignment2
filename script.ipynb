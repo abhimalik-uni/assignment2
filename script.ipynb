{
 "cells": [
  {
   "cell_type": "code",
   "execution_count": 7,
   "metadata": {},
   "outputs": [],
   "source": [
    "import pandas as pd\n",
    "\n",
    "# Load the CSV into a DataFrame\n",
    "file_path = 'data/melb_data.csv'  # Replace with the actual file path\n",
    "data = pd.read_csv(file_path)\n",
    "\n",
    "# Calculate the average number of sales per suburb\n",
    "average_sales_per_suburb = data.groupby('Suburb').size().mean()\n",
    "\n",
    "# Calculate the difference for each suburb\n",
    "sales_difference_per_suburb = data.groupby('Suburb').size() - average_sales_per_suburb\n",
    "\n",
    "# Create a new DataFrame to store the sales difference per suburb\n",
    "sales_difference_df = pd.DataFrame({\n",
    "    'Suburb': sales_difference_per_suburb.index,\n",
    "    'SalesDifference': sales_difference_per_suburb.values,\n",
    "    'NumberofSales': data.groupby('Suburb').size().values  # Add the number of sales\n",
    "})\n",
    "\n",
    "# Save the sales difference per suburb to a new CSV\n",
    "sales_difference_df.to_csv('sales_difference_per_suburb.csv', index=False)\n"
   ]
  },
  {
   "cell_type": "code",
   "execution_count": 5,
   "metadata": {},
   "outputs": [
    {
     "data": {
      "text/plain": [
       "43.2484076433121"
      ]
     },
     "execution_count": 5,
     "metadata": {},
     "output_type": "execute_result"
    }
   ],
   "source": [
    "average_sales_per_suburb"
   ]
  },
  {
   "cell_type": "code",
   "execution_count": 10,
   "metadata": {},
   "outputs": [
    {
     "name": "stdout",
     "output_type": "stream",
     "text": [
      "Top 10 suburbs for 2016 saved to top_10_suburbs_2016.csv\n",
      "Top 10 suburbs for 2017 saved to top_10_suburbs_2017.csv\n"
     ]
    }
   ],
   "source": [
    "import csv\n",
    "from collections import defaultdict\n",
    "import operator\n",
    "\n",
    "# Initialize dictionaries to store the count of properties sold for each suburb in each year\n",
    "properties_by_year = defaultdict(lambda: defaultdict(int))\n",
    "\n",
    "# Read the CSV file\n",
    "with open('data/melb_data.csv', 'r') as csvfile:\n",
    "    reader = csv.DictReader(csvfile)\n",
    "    for row in reader:\n",
    "        # Extract the year from the date\n",
    "        year = int(row['Date'].split('/')[-1])\n",
    "        \n",
    "        # Get the suburb\n",
    "        suburb = row['Suburb']\n",
    "        \n",
    "        # Update the count of properties sold for the respective year and suburb\n",
    "        properties_by_year[year][suburb] += 1\n",
    "\n",
    "# Sort the suburbs by the number of properties sold in each year\n",
    "sorted_properties_by_year = {year: dict(sorted(suburbs.items(), key=operator.itemgetter(1), reverse=True)) for year, suburbs in properties_by_year.items()}\n",
    "\n",
    "# Output the top 5 suburbs for each year into separate CSV files\n",
    "for year, suburbs in sorted_properties_by_year.items():\n",
    "    top_10_suburbs = dict(list(suburbs.items())[:10])\n",
    "    output_file = f'top_10_suburbs_{year}.csv'\n",
    "    with open(output_file, 'w', newline='') as csvfile:\n",
    "        writer = csv.writer(csvfile)\n",
    "        writer.writerow(['Suburb', 'Properties Sold'])\n",
    "        for suburb, count in top_10_suburbs.items():\n",
    "            writer.writerow([suburb, count])\n",
    "    print(f'Top 10 suburbs for {year} saved to {output_file}')\n"
   ]
  },
  {
   "cell_type": "code",
   "execution_count": 11,
   "metadata": {},
   "outputs": [
    {
     "name": "stdout",
     "output_type": "stream",
     "text": [
      "Median Price: 903000.0\n"
     ]
    }
   ],
   "source": [
    "import pandas as pd\n",
    "\n",
    "# Load the CSV file into a DataFrame\n",
    "df = pd.read_csv('data/melb_data.csv')  # Replace with the actual path to your CSV file\n",
    "\n",
    "# Calculate the median of the \"Price\" column\n",
    "median_price = df['Price'].median()\n",
    "\n",
    "print('Median Price:', median_price)\n"
   ]
  },
  {
   "cell_type": "code",
   "execution_count": 14,
   "metadata": {},
   "outputs": [
    {
     "name": "stdout",
     "output_type": "stream",
     "text": [
      "Max Median Price: 2185000.0\n"
     ]
    }
   ],
   "source": [
    "import pandas as pd\n",
    "\n",
    "# Load the CSV file into a DataFrame\n",
    "df = pd.read_csv('data/suburb_medians.csv')  # Replace with the actual path to your CSV file\n",
    "\n",
    "# Calculate the median of the \"Price\" column\n",
    "max_median_price = df['Median Price'].max()\n",
    "\n",
    "print('Max Median Price:', max_median_price)\n"
   ]
  },
  {
   "cell_type": "code",
   "execution_count": null,
   "metadata": {},
   "outputs": [],
   "source": []
  }
 ],
 "metadata": {
  "kernelspec": {
   "display_name": "base",
   "language": "python",
   "name": "python3"
  },
  "language_info": {
   "codemirror_mode": {
    "name": "ipython",
    "version": 3
   },
   "file_extension": ".py",
   "mimetype": "text/x-python",
   "name": "python",
   "nbconvert_exporter": "python",
   "pygments_lexer": "ipython3",
   "version": "3.11.3"
  },
  "orig_nbformat": 4
 },
 "nbformat": 4,
 "nbformat_minor": 2
}
